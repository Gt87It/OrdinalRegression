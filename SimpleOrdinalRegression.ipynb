{
 "cells": [
  {
   "cell_type": "markdown",
   "id": "f5e423ba-adb5-48f4-88e8-fd885aeb814e",
   "metadata": {
    "id": "f5e423ba-adb5-48f4-88e8-fd885aeb814e"
   },
   "source": [
    "# Sample : Armenia"
   ]
  },
  {
   "cell_type": "markdown",
   "id": "75a154ea-3510-4e8f-ba01-84d3ad01906e",
   "metadata": {
    "id": "75a154ea-3510-4e8f-ba01-84d3ad01906e"
   },
   "source": [
    "### Data preparation"
   ]
  },
  {
   "cell_type": "code",
   "execution_count": 3,
   "id": "1fff69e4-c86d-484c-acd7-455214fb1b6a",
   "metadata": {
    "id": "1fff69e4-c86d-484c-acd7-455214fb1b6a"
   },
   "outputs": [],
   "source": [
    "# module import\n",
    "import pandas as pd\n",
    "import numpy as np\n",
    "import matplotlib.pyplot as plt\n",
    "import seaborn as sns"
   ]
  },
  {
   "cell_type": "code",
   "execution_count": 4,
   "id": "b0c59716-aeb3-42ae-b6d3-5ac1cc2e44ba",
   "metadata": {
    "colab": {
     "base_uri": "https://localhost:8080/"
    },
    "id": "b0c59716-aeb3-42ae-b6d3-5ac1cc2e44ba",
    "outputId": "1b37f075-df12-4b1a-dc26-4d1413c7082d"
   },
   "outputs": [
    {
     "data": {
      "text/plain": [
       "(97220, 613)"
      ]
     },
     "execution_count": 4,
     "metadata": {},
     "output_type": "execute_result"
    }
   ],
   "source": [
    "# file import \n",
    "data = pd.read_csv(\"Dataset_wvs2017.csv\", low_memory=False)\n",
    "data.shape"
   ]
  },
  {
   "cell_type": "markdown",
   "id": "1efcc146-63cc-4ece-a037-37edb650131b",
   "metadata": {
    "id": "1efcc146-63cc-4ece-a037-37edb650131b"
   },
   "source": [
    "### Data Cleaning"
   ]
  },
  {
   "cell_type": "code",
   "execution_count": 8,
   "id": "f3eb90f5-5274-42f3-8280-c58b79459049",
   "metadata": {
    "id": "f3eb90f5-5274-42f3-8280-c58b79459049"
   },
   "outputs": [],
   "source": [
    "list_gen = [\"B_COUNTRY\",\"Q235\", \"Q238\", \"Q56\", \"Q148\", \"Q176\"]"
   ]
  },
  {
   "cell_type": "code",
   "execution_count": 10,
   "id": "24d1bc57-459f-4ce7-9936-300c48473583",
   "metadata": {
    "colab": {
     "base_uri": "https://localhost:8080/"
    },
    "id": "24d1bc57-459f-4ce7-9936-300c48473583",
    "outputId": "120289b0-c7c4-4fff-ae69-e76bf7fd7f79"
   },
   "outputs": [
    {
     "data": {
      "text/plain": [
       "(97220, 6)"
      ]
     },
     "execution_count": 10,
     "metadata": {},
     "output_type": "execute_result"
    }
   ],
   "source": [
    "# extract variables of interest\n",
    "list_var = []\n",
    "for i in list_gen:\n",
    "        list_var.append(i)\n",
    "data = data[list_var]    # reduce dimensions\n",
    "data.shape"
   ]
  },
  {
   "cell_type": "code",
   "execution_count": 12,
   "id": "161288eb-ec73-44ee-9c19-cd64abff0bfb",
   "metadata": {},
   "outputs": [
    {
     "data": {
      "text/html": [
       "<div>\n",
       "<style scoped>\n",
       "    .dataframe tbody tr th:only-of-type {\n",
       "        vertical-align: middle;\n",
       "    }\n",
       "\n",
       "    .dataframe tbody tr th {\n",
       "        vertical-align: top;\n",
       "    }\n",
       "\n",
       "    .dataframe thead th {\n",
       "        text-align: right;\n",
       "    }\n",
       "</style>\n",
       "<table border=\"1\" class=\"dataframe\">\n",
       "  <thead>\n",
       "    <tr style=\"text-align: right;\">\n",
       "      <th></th>\n",
       "      <th>B_COUNTRY</th>\n",
       "      <th>Q235</th>\n",
       "      <th>Q238</th>\n",
       "      <th>Q56</th>\n",
       "      <th>Q148</th>\n",
       "      <th>Q176</th>\n",
       "    </tr>\n",
       "  </thead>\n",
       "  <tbody>\n",
       "    <tr>\n",
       "      <th>0</th>\n",
       "      <td>20</td>\n",
       "      <td>4</td>\n",
       "      <td>2</td>\n",
       "      <td>1</td>\n",
       "      <td>4</td>\n",
       "      <td>4</td>\n",
       "    </tr>\n",
       "    <tr>\n",
       "      <th>1</th>\n",
       "      <td>20</td>\n",
       "      <td>4</td>\n",
       "      <td>2</td>\n",
       "      <td>1</td>\n",
       "      <td>4</td>\n",
       "      <td>-2</td>\n",
       "    </tr>\n",
       "    <tr>\n",
       "      <th>2</th>\n",
       "      <td>20</td>\n",
       "      <td>4</td>\n",
       "      <td>2</td>\n",
       "      <td>2</td>\n",
       "      <td>4</td>\n",
       "      <td>5</td>\n",
       "    </tr>\n",
       "    <tr>\n",
       "      <th>3</th>\n",
       "      <td>20</td>\n",
       "      <td>3</td>\n",
       "      <td>2</td>\n",
       "      <td>3</td>\n",
       "      <td>4</td>\n",
       "      <td>4</td>\n",
       "    </tr>\n",
       "    <tr>\n",
       "      <th>4</th>\n",
       "      <td>20</td>\n",
       "      <td>3</td>\n",
       "      <td>2</td>\n",
       "      <td>-2</td>\n",
       "      <td>4</td>\n",
       "      <td>5</td>\n",
       "    </tr>\n",
       "  </tbody>\n",
       "</table>\n",
       "</div>"
      ],
      "text/plain": [
       "   B_COUNTRY  Q235  Q238  Q56  Q148  Q176\n",
       "0         20     4     2    1     4     4\n",
       "1         20     4     2    1     4    -2\n",
       "2         20     4     2    2     4     5\n",
       "3         20     3     2    3     4     4\n",
       "4         20     3     2   -2     4     5"
      ]
     },
     "execution_count": 12,
     "metadata": {},
     "output_type": "execute_result"
    }
   ],
   "source": [
    "data.head()"
   ]
  },
  {
   "cell_type": "code",
   "execution_count": 14,
   "id": "20f19391-f3fb-4211-97a7-bc5cefa668a2",
   "metadata": {
    "colab": {
     "base_uri": "https://localhost:8080/"
    },
    "id": "20f19391-f3fb-4211-97a7-bc5cefa668a2",
    "outputId": "d758e224-f61d-4e26-d203-39e67966ba90"
   },
   "outputs": [
    {
     "data": {
      "text/plain": [
       "(2596, 5)"
      ]
     },
     "execution_count": 14,
     "metadata": {},
     "output_type": "execute_result"
    }
   ],
   "source": [
    "# select data from B_COUNTRY: USA (840).\n",
    "df = data[data['B_COUNTRY'] == 840]\n",
    "# delete columns I don't need to use \n",
    "df = df.drop(labels =['B_COUNTRY'], axis=1)\n",
    "df.shape"
   ]
  },
  {
   "cell_type": "markdown",
   "id": "0f913138-be15-48ea-a871-8c32d74aaeb9",
   "metadata": {
    "id": "0f913138-be15-48ea-a871-8c32d74aaeb9"
   },
   "source": [
    "# Data cleaning: Missing values : -1 , -2, -4, -5"
   ]
  },
  {
   "cell_type": "markdown",
   "id": "22af60bb-6a0b-4f2d-b876-fd1d45e4c98d",
   "metadata": {
    "id": "22af60bb-6a0b-4f2d-b876-fd1d45e4c98d"
   },
   "source": [
    "## Columns"
   ]
  },
  {
   "cell_type": "code",
   "execution_count": 30,
   "id": "9670c5ab-70f1-43bf-a590-6b2d4ed96e75",
   "metadata": {
    "colab": {
     "base_uri": "https://localhost:8080/"
    },
    "id": "9670c5ab-70f1-43bf-a590-6b2d4ed96e75",
    "outputId": "fa64de8a-d8c6-407a-e82e-a3c47b8a330e"
   },
   "outputs": [
    {
     "name": "stdout",
     "output_type": "stream",
     "text": [
      "N. columns with values:\n",
      " -1:  3 \n",
      " -2:  5 \n",
      " -4:  0 \n",
      " -5:  1\n"
     ]
    }
   ],
   "source": [
    "# Identify columns with missing values or similar, or a combination of: -1 , -2, -4, -5\n",
    "cercati1, cercati2, cercati3, missing    = [-1], [-2], [-4], [-5]\n",
    "# Create a mask \n",
    "maschera1 , maschera2, maschera3, maschera4 = df.isin(cercati1).any(axis=0), df.isin(cercati2).any(axis=0), df.isin(cercati3).any(axis=0), df.isin(missing).any(axis=0)\n",
    "\n",
    "# Number of columns with data I ama looking for\n",
    "valori1 = df.columns[maschera1]\n",
    "valori2 = df.columns[maschera2]\n",
    "valori3 = df.columns[maschera3]\n",
    "colmissing = df.columns[missing]\n",
    "print(\n",
    "    'N. columns with values:\\n -1: ', len(valori1),\n",
    "     '\\n -2: ', len(valori2),\n",
    "     '\\n -4: ', len(valori3),\n",
    "     '\\n -5: ', len(colmissing))"
   ]
  },
  {
   "cell_type": "code",
   "execution_count": 32,
   "id": "af6cc3da-d75e-4286-83a3-0677e279eda3",
   "metadata": {
    "colab": {
     "base_uri": "https://localhost:8080/"
    },
    "id": "af6cc3da-d75e-4286-83a3-0677e279eda3",
    "outputId": "70a948d8-71a0-4ce3-978e-befe0c13674a"
   },
   "outputs": [
    {
     "name": "stdout",
     "output_type": "stream",
     "text": [
      "No columns with only values -1, -2, -4, -5.\n"
     ]
    }
   ],
   "source": [
    "# Are there columns with just one missing value?\n",
    "valori_cercati = {-1, -2, -4, -5}\n",
    "# dictionary associating each column to a set of unique values of that particular column but only in those values are among those I am looking for\n",
    "colonne_relative = {\n",
    "    colonna: set(df[colonna].unique()) # Get the unique values of a column and create a set \n",
    "    for colonna in df.columns# for each column of the dataset\n",
    "    if set(df[colonna].unique()).issubset(valori_cercati)  # consider only column with values of valori_cercati\n",
    "}\n",
    "# identify columns\n",
    "if colonne_relative:\n",
    "    for colonna, valori in colonne_relative.items():\n",
    "        print(\"Columns with values that are only {-1, -2, -4, -5}:\")\n",
    "        print(f\"Colonna: {colonna}, Valori unici: {valori}\")\n",
    "else:\n",
    "    print(\"No columns with only values -1, -2, -4, -5.\")"
   ]
  },
  {
   "cell_type": "markdown",
   "id": "2d374342-9b80-4d92-8815-987d3b611b62",
   "metadata": {
    "id": "2d374342-9b80-4d92-8815-987d3b611b62"
   },
   "source": [
    "## Righe"
   ]
  },
  {
   "cell_type": "code",
   "execution_count": 35,
   "id": "14c1ca75-b488-4c68-bd2d-1026d4d216b2",
   "metadata": {
    "colab": {
     "base_uri": "https://localhost:8080/"
    },
    "id": "14c1ca75-b488-4c68-bd2d-1026d4d216b2",
    "outputId": "c3b2dfc6-7dc2-424a-c2b1-431c4c3ab2fc"
   },
   "outputs": [
    {
     "name": "stdout",
     "output_type": "stream",
     "text": [
      "N. rows :\n",
      " -1:  10 \n",
      " -2:  106 \n",
      " -4:  0 \n",
      " -5:  0\n"
     ]
    }
   ],
   "source": [
    "# do the same with rows \n",
    "# create a mask \n",
    "# Crea una maschera per individuare le righe che contengono almeno uno dei valori cercati\n",
    "maschera1 , maschera2, maschera3, maschera4 = df.isin(cercati1).any(axis=1), df.isin(cercati2).any(axis=1), df.isin(cercati3).any(axis=1), df.isin(missing).any(axis=1)\n",
    "# count number of rows with missing or similar\n",
    "print(\n",
    "    'N. rows :\\n -1: ', maschera1.sum(),\n",
    "     '\\n -2: ', maschera2.sum(),\n",
    "     '\\n -4: ', maschera3.sum(),\n",
    "     '\\n -5: ', maschera4.sum())"
   ]
  },
  {
   "cell_type": "code",
   "execution_count": 37,
   "id": "15bd4008-21fe-4704-85b5-fc319d88d1b1",
   "metadata": {
    "colab": {
     "base_uri": "https://localhost:8080/"
    },
    "id": "15bd4008-21fe-4704-85b5-fc319d88d1b1",
    "outputId": "62731bb0-6bb8-4c0f-ebcc-cd3f9e2c6790"
   },
   "outputs": [
    {
     "data": {
      "text/plain": [
       "(2480, 5)"
      ]
     },
     "execution_count": 37,
     "metadata": {},
     "output_type": "execute_result"
    }
   ],
   "source": [
    "#delete rows with values -1, -2 e -4 e -5 \n",
    "df = df[~df.isin([-1, -2, -4, -5]).any(axis=1)]\n",
    "df.shape"
   ]
  },
  {
   "cell_type": "code",
   "execution_count": 39,
   "id": "e4b86a49-4e30-4e98-a6c6-5961727406d8",
   "metadata": {
    "colab": {
     "base_uri": "https://localhost:8080/"
    },
    "id": "e4b86a49-4e30-4e98-a6c6-5961727406d8",
    "outputId": "d43605b4-f9a2-4dc4-9749-b14e75ae1b18"
   },
   "outputs": [
    {
     "name": "stdout",
     "output_type": "stream",
     "text": [
      "Columns: []\n"
     ]
    }
   ],
   "source": [
    "# looking for implicit constant in the df\n",
    "colonne_costanti = [colonna for colonna in df.columns if df[colonna].nunique() == 1]\n",
    "print(\"Columns:\", colonne_costanti)"
   ]
  },
  {
   "cell_type": "markdown",
   "id": "e7d15d63-43c9-4a6a-98aa-115a4533996b",
   "metadata": {
    "id": "e7d15d63-43c9-4a6a-98aa-115a4533996b"
   },
   "source": [
    "## Renaming variables"
   ]
  },
  {
   "cell_type": "code",
   "execution_count": 44,
   "id": "a33c2ec6-8ecf-462e-a239-3cce9caa915c",
   "metadata": {
    "id": "a33c2ec6-8ecf-462e-a239-3cce9caa915c"
   },
   "outputs": [],
   "source": [
    "# by using a dictionary\n",
    "dizionario_vars = {\n",
    "    'Q235':'Lead_auth',\n",
    "    'Q238':'Demo_Pol_syst', \n",
    "    'Q56':'Threat_ECO', \n",
    "    'Q148':'Threat_CIV', \n",
    "    'Q176':'Threat_MOR',\n",
    " }\n",
    "\n",
    "# rename the columns in the dataset\n",
    "df = df.rename(columns= dizionario_vars)"
   ]
  },
  {
   "cell_type": "code",
   "execution_count": 21,
   "id": "fd01a55f-da73-4e3f-9cf8-b65f01dc9d28",
   "metadata": {},
   "outputs": [
    {
     "name": "stdout",
     "output_type": "stream",
     "text": [
      "       Lead_auth  Demo_Pol_syst  Threat_ECO  Threat_CIV  Threat_MOR\n",
      "89770          1              1           2           2           6\n",
      "89772          1              3           4           3          10\n",
      "89773          3              2           2           2           4\n",
      "89774          1              1           2           1          10\n",
      "89775          2              4           3           4          10\n",
      "...          ...            ...         ...         ...         ...\n",
      "92359          1              4           2           4           4\n",
      "92360          2              4           4           4           3\n",
      "92361          2              3           4           3           1\n",
      "92362          1              4           2           2           3\n",
      "92364          4              3           3           4          10\n",
      "\n",
      "[2480 rows x 5 columns]\n"
     ]
    },
    {
     "name": "stderr",
     "output_type": "stream",
     "text": [
      "C:\\Users\\giamm\\AppData\\Local\\Temp\\ipykernel_2704\\3659564137.py:8: FutureWarning: DataFrame.applymap has been deprecated. Use DataFrame.map instead.\n",
      "  df[transform] = df[transform].applymap(lambda x: mapping_general[x])\n",
      "C:\\Users\\giamm\\AppData\\Local\\Temp\\ipykernel_2704\\3659564137.py:11: FutureWarning: DataFrame.applymap has been deprecated. Use DataFrame.map instead.\n",
      "  df[transform2] = df[transform2].applymap(lambda x: mapping_general[x])\n"
     ]
    }
   ],
   "source": [
    "# inverting the values of the scales (see for example \"mapping_threat_eco\")\n",
    "mapping_general = {1: 4, 2: 3, 3: 2, 4: 1} \n",
    "mapping_threat_mor = {1: 10, 2: 9, 3: 8, 4: 7, 5: 6, 6: 5, 7: 4, 8: 3, 9: 2, 10: 1}\n",
    "mapping_threat_eco = {1:2,2:3, 3:1} # 1 Worse off , 2: the same, 3 : better off\n",
    "\n",
    "# Apply the mapping with applymap + lambda function\n",
    "transform = ['Lead_auth', 'Threat_CIV', 'Demo_Pol_syst']\n",
    "df[transform] = df[transform].applymap(lambda x: mapping_general[x])\n",
    "\n",
    "transform2 = ['Threat_ECO']\n",
    "df[transform2] = df[transform2].applymap(lambda x: mapping_general[x])\n",
    "\n",
    "df['Threat_MOR'] = df['Threat_MOR'].map(mapping_threat_mor)\n",
    "print(df)"
   ]
  },
  {
   "cell_type": "code",
   "execution_count": 46,
   "id": "94a056c2-3f8f-4165-a0e1-3ae6a5af89da",
   "metadata": {},
   "outputs": [
    {
     "data": {
      "text/html": [
       "<div>\n",
       "<style scoped>\n",
       "    .dataframe tbody tr th:only-of-type {\n",
       "        vertical-align: middle;\n",
       "    }\n",
       "\n",
       "    .dataframe tbody tr th {\n",
       "        vertical-align: top;\n",
       "    }\n",
       "\n",
       "    .dataframe thead th {\n",
       "        text-align: right;\n",
       "    }\n",
       "</style>\n",
       "<table border=\"1\" class=\"dataframe\">\n",
       "  <thead>\n",
       "    <tr style=\"text-align: right;\">\n",
       "      <th></th>\n",
       "      <th>Lead_auth</th>\n",
       "      <th>Demo_Pol_syst</th>\n",
       "      <th>Threat_ECO</th>\n",
       "      <th>Threat_CIV</th>\n",
       "      <th>Threat_MOR</th>\n",
       "    </tr>\n",
       "  </thead>\n",
       "  <tbody>\n",
       "    <tr>\n",
       "      <th>count</th>\n",
       "      <td>2480.000000</td>\n",
       "      <td>2480.000000</td>\n",
       "      <td>2480.000000</td>\n",
       "      <td>2480.000000</td>\n",
       "      <td>2480.000000</td>\n",
       "    </tr>\n",
       "    <tr>\n",
       "      <th>mean</th>\n",
       "      <td>2.928226</td>\n",
       "      <td>1.704435</td>\n",
       "      <td>1.853629</td>\n",
       "      <td>2.770565</td>\n",
       "      <td>5.613306</td>\n",
       "    </tr>\n",
       "    <tr>\n",
       "      <th>std</th>\n",
       "      <td>1.024355</td>\n",
       "      <td>0.804473</td>\n",
       "      <td>0.874973</td>\n",
       "      <td>0.965824</td>\n",
       "      <td>2.797175</td>\n",
       "    </tr>\n",
       "    <tr>\n",
       "      <th>min</th>\n",
       "      <td>1.000000</td>\n",
       "      <td>1.000000</td>\n",
       "      <td>1.000000</td>\n",
       "      <td>1.000000</td>\n",
       "      <td>1.000000</td>\n",
       "    </tr>\n",
       "    <tr>\n",
       "      <th>25%</th>\n",
       "      <td>2.000000</td>\n",
       "      <td>1.000000</td>\n",
       "      <td>1.000000</td>\n",
       "      <td>2.000000</td>\n",
       "      <td>3.000000</td>\n",
       "    </tr>\n",
       "    <tr>\n",
       "      <th>50%</th>\n",
       "      <td>3.000000</td>\n",
       "      <td>2.000000</td>\n",
       "      <td>2.000000</td>\n",
       "      <td>3.000000</td>\n",
       "      <td>5.000000</td>\n",
       "    </tr>\n",
       "    <tr>\n",
       "      <th>75%</th>\n",
       "      <td>4.000000</td>\n",
       "      <td>2.000000</td>\n",
       "      <td>3.000000</td>\n",
       "      <td>4.000000</td>\n",
       "      <td>8.000000</td>\n",
       "    </tr>\n",
       "    <tr>\n",
       "      <th>max</th>\n",
       "      <td>4.000000</td>\n",
       "      <td>4.000000</td>\n",
       "      <td>3.000000</td>\n",
       "      <td>4.000000</td>\n",
       "      <td>10.000000</td>\n",
       "    </tr>\n",
       "  </tbody>\n",
       "</table>\n",
       "</div>"
      ],
      "text/plain": [
       "         Lead_auth  Demo_Pol_syst   Threat_ECO   Threat_CIV   Threat_MOR\n",
       "count  2480.000000    2480.000000  2480.000000  2480.000000  2480.000000\n",
       "mean      2.928226       1.704435     1.853629     2.770565     5.613306\n",
       "std       1.024355       0.804473     0.874973     0.965824     2.797175\n",
       "min       1.000000       1.000000     1.000000     1.000000     1.000000\n",
       "25%       2.000000       1.000000     1.000000     2.000000     3.000000\n",
       "50%       3.000000       2.000000     2.000000     3.000000     5.000000\n",
       "75%       4.000000       2.000000     3.000000     4.000000     8.000000\n",
       "max       4.000000       4.000000     3.000000     4.000000    10.000000"
      ]
     },
     "execution_count": 46,
     "metadata": {},
     "output_type": "execute_result"
    }
   ],
   "source": [
    "# descriptive statistics\n",
    "df.describe()"
   ]
  },
  {
   "cell_type": "code",
   "execution_count": 23,
   "id": "8bc56a05-2c1d-4be6-9941-354071b43c15",
   "metadata": {
    "colab": {
     "base_uri": "https://localhost:8080/",
     "height": 610
    },
    "id": "8bc56a05-2c1d-4be6-9941-354071b43c15",
    "outputId": "db6173dd-1c80-4afd-be50-9c0bd0837331"
   },
   "outputs": [
    {
     "data": {
      "image/png": "[encoded data removed]",
      "text/plain": [
       "<Figure size 1000x400 with 1 Axes>"
      ]
     },
     "metadata": {},
     "output_type": "display_data"
    }
   ],
   "source": [
    "# boxplot to check visualli for the distributions\n",
    "plt.figure(figsize=(10, 4))\n",
    "sns.boxplot(data=df)\n",
    "plt.xticks(rotation=90)\n",
    "plt.grid(True, linestyle='--', alpha=0.6)\n",
    "plt.ylim(df.min().min() - 1, df.max().max() + 1)\n",
    "plt.title(\"Boxplot del dataset: variabili continue\")\n",
    "plt.show()"
   ]
  },
  {
   "cell_type": "markdown",
   "id": "63093e89-f029-4e3c-be12-c5dcc1152835",
   "metadata": {},
   "source": [
    "# Contingency tables "
   ]
  },
  {
   "cell_type": "code",
   "execution_count": 49,
   "id": "10b3e572-d3e3-4a1d-abf3-c1bd0881b95f",
   "metadata": {},
   "outputs": [
    {
     "name": "stdout",
     "output_type": "stream",
     "text": [
      "Demo_Pol_syst vs Lead_auth:\n",
      "Lead_auth        1    2    3    4\n",
      "Demo_Pol_syst                    \n",
      "1              115  144  277  648\n",
      "2               93  336  274  235\n",
      "3               35   89  101   40\n",
      "4               26   20   21   26\n",
      "\n",
      "Threat_ECO vs Lead_auth:\n",
      "Lead_auth     1    2    3    4\n",
      "Threat_ECO                    \n",
      "1           128  273  316  440\n",
      "2            56  120  138  215\n",
      "3            85  196  219  294\n",
      "\n",
      "Threat_CIV vs Lead_auth:\n",
      "Lead_auth    1    2    3    4\n",
      "Threat_CIV                   \n",
      "1           70  103   68   75\n",
      "2           68  158  154  178\n",
      "3           87  240  292  366\n",
      "4           44   88  159  330\n",
      "\n",
      "Threat_MOR vs Lead_auth:\n",
      "Lead_auth    1    2    3    4\n",
      "Threat_MOR                   \n",
      "1           48   61   50   72\n",
      "2           19   44   26   35\n",
      "3           29   77   82  102\n",
      "4           24   67   77  105\n",
      "5           56  153  128   89\n",
      "6           17   43   54   50\n",
      "7           20   46   66   76\n",
      "8           17   50   82  130\n",
      "9            8   12   48  104\n",
      "10          31   36   60  186\n"
     ]
    }
   ],
   "source": [
    "# Four double entry tables with 'Lead_auth' as the focus variable\n",
    "table_demo_pol_syst = pd.crosstab(df['Demo_Pol_syst'], df['Lead_auth'])\n",
    "table_threat_eco = pd.crosstab(df['Threat_ECO'], df['Lead_auth'])\n",
    "table_threat_civ = pd.crosstab(df['Threat_CIV'], df['Lead_auth'])\n",
    "table_threat_mor = pd.crosstab(df['Threat_MOR'], df['Lead_auth'])\n",
    "\n",
    "# Print them with labels on the axis\n",
    "print(\"Demo_Pol_syst vs Lead_auth:\")\n",
    "print(table_demo_pol_syst)\n",
    "print(\"\\nThreat_ECO vs Lead_auth:\")\n",
    "print(table_threat_eco)\n",
    "print(\"\\nThreat_CIV vs Lead_auth:\")\n",
    "print(table_threat_civ)\n",
    "print(\"\\nThreat_MOR vs Lead_auth:\")\n",
    "print(table_threat_mor)"
   ]
  },
  {
   "cell_type": "markdown",
   "id": "32420013-6135-48f7-be5e-6e463c7b2d46",
   "metadata": {},
   "source": [
    "### Ordinal Logistic regression"
   ]
  },
  {
   "cell_type": "code",
   "execution_count": 54,
   "id": "30437671-32f7-4ab9-af30-ba8a7dd31f37",
   "metadata": {},
   "outputs": [],
   "source": [
    "# import the module from statsmodel\n",
    "from statsmodels.miscmodels.ordinal_model import OrderedModel"
   ]
  },
  {
   "cell_type": "code",
   "execution_count": 56,
   "id": "c3d464c6-416e-4f65-ba79-2aa07c1b88ef",
   "metadata": {},
   "outputs": [
    {
     "data": {
      "text/plain": [
       "Index(['Lead_auth', 'Demo_Pol_syst', 'Threat_ECO', 'Threat_CIV', 'Threat_MOR'], dtype='object')"
      ]
     },
     "execution_count": 56,
     "metadata": {},
     "output_type": "execute_result"
    }
   ],
   "source": [
    "# list of the columns i have\n",
    "df.columns"
   ]
  },
  {
   "cell_type": "code",
   "execution_count": 57,
   "id": "e38a2f70-7355-4b08-90e5-34fa56158be2",
   "metadata": {},
   "outputs": [],
   "source": [
    "# drop the outcome variable from the dataset \n",
    "y = df['Lead_auth']"
   ]
  },
  {
   "cell_type": "code",
   "execution_count": 60,
   "id": "3e33a679-1c14-4dca-b1dc-c185108a4088",
   "metadata": {},
   "outputs": [],
   "source": [
    "# change its tape to ordered category\n",
    "y = y.astype('category').cat.as_ordered()"
   ]
  },
  {
   "cell_type": "code",
   "execution_count": 31,
   "id": "a8b50fc6-8d19-4a27-9b99-1cec364c89e1",
   "metadata": {},
   "outputs": [
    {
     "data": {
      "text/plain": [
       "[1, 3, 2, 4]\n",
       "Categories (4, int64): [1 < 2 < 3 < 4]"
      ]
     },
     "execution_count": 31,
     "metadata": {},
     "output_type": "execute_result"
    }
   ],
   "source": [
    "# check for its unique values\n",
    "y.unique()"
   ]
  },
  {
   "cell_type": "markdown",
   "id": "66bee165-9ea7-440a-9653-1896e55574ef",
   "metadata": {},
   "source": [
    "# Ordinal regression models with one predictor "
   ]
  },
  {
   "cell_type": "code",
   "execution_count": 33,
   "id": "d3b0b27c-56cf-449e-9074-3a6848366727",
   "metadata": {},
   "outputs": [
    {
     "name": "stdout",
     "output_type": "stream",
     "text": [
      "RISULTATI PER PREDITTORE:  Demo_Pol_syst\n",
      "                             OrderedModel Results                             \n",
      "==============================================================================\n",
      "Dep. Variable:              Lead_auth   Log-Likelihood:                -3143.7\n",
      "Model:                   OrderedModel   AIC:                             6295.\n",
      "Method:            Maximum Likelihood   BIC:                             6319.\n",
      "Date:                Wed, 18 Dec 2024                                         \n",
      "Time:                        23:52:25                                         \n",
      "No. Observations:                2480                                         \n",
      "Df Residuals:                    2476                                         \n",
      "Df Model:                           1                                         \n",
      "=================================================================================\n",
      "                    coef    std err          z      P>|z|      [0.025      0.975]\n",
      "---------------------------------------------------------------------------------\n",
      "Demo_Pol_syst    -0.3689      0.028    -13.377      0.000      -0.423      -0.315\n",
      "1/2              -1.5253      0.095    -16.015      0.000      -1.712      -1.339\n",
      "2/3              -0.3121      0.034     -9.122      0.000      -0.379      -0.245\n",
      "3/4              -0.1484      0.037     -4.026      0.000      -0.221      -0.076\n",
      "=================================================================================\n",
      "-----------\n",
      "-----------\n",
      "RISULTATI PER PREDITTORE:  Threat_ECO\n",
      "                             OrderedModel Results                             \n",
      "==============================================================================\n",
      "Dep. Variable:              Lead_auth   Log-Likelihood:                -3233.6\n",
      "Model:                   OrderedModel   AIC:                             6475.\n",
      "Method:            Maximum Likelihood   BIC:                             6499.\n",
      "Date:                Wed, 18 Dec 2024                                         \n",
      "Time:                        23:52:25                                         \n",
      "No. Observations:                2480                                         \n",
      "Df Residuals:                    2476                                         \n",
      "Df Model:                           1                                         \n",
      "==============================================================================\n",
      "                 coef    std err          z      P>|z|      [0.025      0.975]\n",
      "------------------------------------------------------------------------------\n",
      "Threat_ECO    -0.0050      0.025     -0.200      0.841      -0.054       0.044\n",
      "1/2           -0.3143      0.083     -3.799      0.000      -0.476      -0.152\n",
      "2/3           -0.3642      0.034    -10.633      0.000      -0.431      -0.297\n",
      "3/4           -0.1761      0.037     -4.760      0.000      -0.249      -0.104\n",
      "==============================================================================\n",
      "-----------\n",
      "-----------\n",
      "RISULTATI PER PREDITTORE:  Threat_CIV\n",
      "                             OrderedModel Results                             \n",
      "==============================================================================\n",
      "Dep. Variable:              Lead_auth   Log-Likelihood:                -3167.5\n",
      "Model:                   OrderedModel   AIC:                             6343.\n",
      "Method:            Maximum Likelihood   BIC:                             6366.\n",
      "Date:                Wed, 18 Dec 2024                                         \n",
      "Time:                        23:52:25                                         \n",
      "No. Observations:                2480                                         \n",
      "Df Residuals:                    2476                                         \n",
      "Df Model:                           1                                         \n",
      "==============================================================================\n",
      "                 coef    std err          z      P>|z|      [0.025      0.975]\n",
      "------------------------------------------------------------------------------\n",
      "Threat_CIV     0.2642      0.023     11.473      0.000       0.219       0.309\n",
      "1/2            0.2796      0.057      4.924      0.000       0.168       0.391\n",
      "2/3           -0.3307      0.034     -9.664      0.000      -0.398      -0.264\n",
      "3/4           -0.1432      0.037     -3.879      0.000      -0.216      -0.071\n",
      "==============================================================================\n",
      "-----------\n",
      "-----------\n",
      "RISULTATI PER PREDITTORE:  Threat_MOR\n",
      "                             OrderedModel Results                             \n",
      "==============================================================================\n",
      "Dep. Variable:              Lead_auth   Log-Likelihood:                -3176.4\n",
      "Model:                   OrderedModel   AIC:                             6361.\n",
      "Method:            Maximum Likelihood   BIC:                             6384.\n",
      "Date:                Wed, 18 Dec 2024                                         \n",
      "Time:                        23:52:25                                         \n",
      "No. Observations:                2480                                         \n",
      "Df Residuals:                    2476                                         \n",
      "Df Model:                           1                                         \n",
      "==============================================================================\n",
      "                 coef    std err          z      P>|z|      [0.025      0.975]\n",
      "------------------------------------------------------------------------------\n",
      "Threat_MOR     0.0857      0.008     10.667      0.000       0.070       0.101\n",
      "1/2            0.1556      0.050      3.111      0.002       0.058       0.254\n",
      "2/3           -0.3332      0.034     -9.738      0.000      -0.400      -0.266\n",
      "3/4           -0.1525      0.037     -4.133      0.000      -0.225      -0.080\n",
      "==============================================================================\n",
      "-----------\n",
      "-----------\n"
     ]
    }
   ],
   "source": [
    "# cycle among all possible models\n",
    "predittori = df[['Demo_Pol_syst', 'Threat_ECO', 'Threat_CIV', 'Threat_MOR']]\n",
    "for i in predittori: \n",
    "    modello = OrderedModel(y,\n",
    "                        predittori[[i]],\n",
    "                        distr='probit')\n",
    "    risultati = modello.fit(method='bfgs', disp=False)\n",
    "    print('Results: ', i)\n",
    "    risultati.summary()\n",
    "    print(risultati.summary())\n",
    "    print('-----------')\n",
    "    print('-----------')"
   ]
  },
  {
   "cell_type": "markdown",
   "id": "252943ae-9e03-40d2-aab3-14555a2a6eb1",
   "metadata": {},
   "source": [
    "### Two-predictors models"
   ]
  },
  {
   "cell_type": "markdown",
   "id": "d04f31a9-6454-44a7-bc31-61e6d96c89ad",
   "metadata": {},
   "source": [
    "### Demo_Pol_syst and Threat_ECO"
   ]
  },
  {
   "cell_type": "code",
   "execution_count": 37,
   "id": "e1784bb0-2cf7-4db0-baa3-8aa06eeed603",
   "metadata": {},
   "outputs": [
    {
     "name": "stdout",
     "output_type": "stream",
     "text": [
      "                             OrderedModel Results                             \n",
      "==============================================================================\n",
      "Dep. Variable:              Lead_auth   Log-Likelihood:                -3143.2\n",
      "Model:                   OrderedModel   AIC:                             6296.\n",
      "Method:            Maximum Likelihood   BIC:                             6325.\n",
      "Date:                Wed, 18 Dec 2024                                         \n",
      "Time:                        23:52:26                                         \n",
      "No. Observations:                2480                                         \n",
      "Df Residuals:                    2475                                         \n",
      "Df Model:                           2                                         \n",
      "=================================================================================\n",
      "                    coef    std err          z      P>|z|      [0.025      0.975]\n",
      "---------------------------------------------------------------------------------\n",
      "Demo_Pol_syst    -0.3716      0.028    -13.415      0.000      -0.426      -0.317\n",
      "Threat_ECO        0.0262      0.025      1.035      0.301      -0.023       0.076\n",
      "1/2              -1.4520      0.119    -12.225      0.000      -1.685      -1.219\n",
      "2/3              -0.3119      0.034     -9.115      0.000      -0.379      -0.245\n",
      "3/4              -0.1482      0.037     -4.019      0.000      -0.220      -0.076\n",
      "=================================================================================\n"
     ]
    }
   ],
   "source": [
    "modello = OrderedModel(y,\n",
    "                        predittori[['Demo_Pol_syst','Threat_ECO']],\n",
    "                        distr='probit') \n",
    "results = modello.fit(method='bfgs', disp=False)\n",
    "results.summary()\n",
    "print(results.summary())"
   ]
  },
  {
   "cell_type": "code",
   "execution_count": 38,
   "id": "2e7be3cc-0c58-40bc-a166-0de983d4fa89",
   "metadata": {},
   "outputs": [
    {
     "name": "stdout",
     "output_type": "stream",
     "text": [
      "AIC: 6296.366038349108\n",
      "BIC: 6325.446107544903\n",
      "Log-likelihood of model (llf): -3143.183019174554\n",
      "Log-likelihood of model without explanatory variables (llnull): -3233.6563810989865\n",
      "Likelihood ratio chi-squared statistic (llr): 180.94672384886508\n",
      "Chi-squared probability (llr_pvalue): 5.104088041119133e-40\n",
      "McFadden’s pseudo-R-squared (prsquared): 0.02797865674697453\n"
     ]
    }
   ],
   "source": [
    "# results of interest for further comparison between models\n",
    "print(\"AIC:\", results.aic)\n",
    "print(\"BIC:\", results.bic)\n",
    "print(\"Log-likelihood of model (llf):\", results.llf)\n",
    "print(\"Log-likelihood of model without explanatory variables (llnull):\", results.llnull)\n",
    "print(\"Likelihood ratio chi-squared statistic (llr):\", results.llr)\n",
    "print(\"Chi-squared probability (llr_pvalue):\", results.llr_pvalue)\n",
    "print(\"McFadden’s pseudo-R-squared (prsquared):\", results.prsquared)"
   ]
  },
  {
   "cell_type": "code",
   "execution_count": 39,
   "id": "544cad3c-2039-46a1-b4b6-bfef8016caf7",
   "metadata": {},
   "outputs": [
    {
     "name": "stdout",
     "output_type": "stream",
     "text": [
      "                  Coef.  Std. err.      Odds\n",
      "Demo_Pol_syst -0.371566   0.027697  0.689653\n",
      "1/2           -1.452014   0.118771  0.234098\n",
      "2/3           -0.311896   0.034217  0.732058\n",
      "3/4           -0.148179   0.036871  0.862277\n"
     ]
    }
   ],
   "source": [
    "# significant predictors and relatice beta and odds ratio\n",
    "# Beta and P-values\n",
    "\n",
    "beta = results.params  # Coefficients (beta)\n",
    "std_errors = results.bse   # standard errors\n",
    "p_values = results.pvalues     # P-value\n",
    "odds= np.exp(results.params)# odds-ratio\n",
    "\n",
    "# Create a DataFrame with betas and p-values\n",
    "variabili= pd.DataFrame({'Coef.': beta, 'Std. err.': std_errors, 'P>|z|': p_values, 'Odds' : odds})\n",
    "\n",
    "# Filter predictor with p-value less than 0.05\n",
    "betap = variabili[variabili['P>|z|'] < 0.05]\n",
    "betap = betap[['Coef.', 'Std. err.','Odds']]\n",
    "# print betas, standard errors and odds ratios\n",
    "print(betap)"
   ]
  },
  {
   "cell_type": "code",
   "execution_count": 40,
   "id": "4200c32b-570b-40c6-a4c6-25641a681196",
   "metadata": {},
   "outputs": [
    {
     "name": "stdout",
     "output_type": "stream",
     "text": [
      "Odds predittori:\n",
      " Demo_Pol_syst    0.689653\n",
      "1/2              0.234098\n",
      "2/3              0.732058\n",
      "3/4              0.862277\n",
      "Name: Odds, dtype: float64\n",
      "-------\n",
      "Soglie:\n",
      " [       -inf -1.45201414 -0.7199565   0.14232008         inf]\n"
     ]
    }
   ],
   "source": [
    "betaodds = betap['Odds']\n",
    "print('Odds predittori:\\n', betaodds)\n",
    "print('-------')\n",
    "num_of_thresholds = 3 # outcome has 4 level therefore we need three thresholds to interpret the data\n",
    "print('Soglie:\\n',  modello.transform_threshold_params(results.params[-num_of_thresholds:]))"
   ]
  },
  {
   "cell_type": "markdown",
   "id": "a0c18563-d35e-49cb-8adc-8c81e1607fa6",
   "metadata": {},
   "source": [
    "### Demo_Pol_syst and Threat_CIV"
   ]
  },
  {
   "cell_type": "code",
   "execution_count": 42,
   "id": "c89c1152-408a-4b1e-b6b6-fe3719bba460",
   "metadata": {},
   "outputs": [
    {
     "name": "stdout",
     "output_type": "stream",
     "text": [
      "                             OrderedModel Results                             \n",
      "==============================================================================\n",
      "Dep. Variable:              Lead_auth   Log-Likelihood:                -3098.5\n",
      "Model:                   OrderedModel   AIC:                             6207.\n",
      "Method:            Maximum Likelihood   BIC:                             6236.\n",
      "Date:                Wed, 18 Dec 2024                                         \n",
      "Time:                        23:52:26                                         \n",
      "No. Observations:                2480                                         \n",
      "Df Residuals:                    2475                                         \n",
      "Df Model:                           2                                         \n",
      "=================================================================================\n",
      "                    coef    std err          z      P>|z|      [0.025      0.975]\n",
      "---------------------------------------------------------------------------------\n",
      "Demo_Pol_syst    -0.3280      0.028    -11.725      0.000      -0.383      -0.273\n",
      "Threat_CIV        0.2223      0.023      9.494      0.000       0.176       0.268\n",
      "1/2              -0.9033      0.116     -7.806      0.000      -1.130      -0.676\n",
      "2/3              -0.2897      0.034     -8.473      0.000      -0.357      -0.223\n",
      "3/4              -0.1240      0.037     -3.368      0.001      -0.196      -0.052\n",
      "=================================================================================\n"
     ]
    }
   ],
   "source": [
    "modello = OrderedModel(y,\n",
    "                        predittori[['Demo_Pol_syst', 'Threat_CIV']],\n",
    "                        distr='probit')\n",
    "results = modello.fit(method='bfgs', disp=False)\n",
    "results.summary()\n",
    "print(results.summary())"
   ]
  },
  {
   "cell_type": "code",
   "execution_count": 43,
   "id": "c2f373e2-fe68-4adb-b941-269879c4b77d",
   "metadata": {},
   "outputs": [
    {
     "name": "stdout",
     "output_type": "stream",
     "text": [
      "AIC: 6207.035269827212\n",
      "BIC: 6236.1153390230065\n",
      "Log-likelihood of model (llf): -3098.517634913606\n",
      "Log-likelihood of model without explanatory variables (llnull): -3233.6563810989865\n",
      "Likelihood ratio chi-squared statistic (llr): 270.27749237076114\n",
      "Chi-squared probability (llr_pvalue): 2.0416826601362377e-59\n",
      "McFadden’s pseudo-R-squared (prsquared): 0.04179131307063999\n"
     ]
    }
   ],
   "source": [
    "# Parameters \n",
    "print(\"AIC:\", results.aic)\n",
    "print(\"BIC:\", results.bic)\n",
    "print(\"Log-likelihood of model (llf):\", results.llf)\n",
    "print(\"Log-likelihood of model without explanatory variables (llnull):\", results.llnull)\n",
    "print(\"Likelihood ratio chi-squared statistic (llr):\", results.llr)\n",
    "print(\"Chi-squared probability (llr_pvalue):\", results.llr_pvalue)\n",
    "print(\"McFadden’s pseudo-R-squared (prsquared):\", results.prsquared)"
   ]
  },
  {
   "cell_type": "code",
   "execution_count": 44,
   "id": "b423ab5c-742a-40c1-907f-7715cba471cb",
   "metadata": {},
   "outputs": [
    {
     "name": "stdout",
     "output_type": "stream",
     "text": [
      "                  Coef.  Std. err.      Odds\n",
      "Demo_Pol_syst -0.328024   0.027977  0.720346\n",
      "Threat_CIV     0.222271   0.023412  1.248910\n",
      "1/2           -0.903285   0.115714  0.405236\n",
      "2/3           -0.289691   0.034189  0.748495\n",
      "3/4           -0.124018   0.036818  0.883364\n"
     ]
    }
   ],
   "source": [
    "# as above: betas, p-values, standard errors, odds ratio\n",
    "beta = results.params  # Coefficients (beta)\n",
    "std_errors = results.bse   # standard errors\n",
    "p_values = results.pvalues     # P-value\n",
    "odds= np.exp(results.params)# odds-ratio\n",
    "\n",
    "# Create a df \n",
    "variabili= pd.DataFrame({'Coef.': beta, 'Std. err.': std_errors, 'P>|z|': p_values, 'Odds' : odds})\n",
    "\n",
    "# filter significant predictors\n",
    "betap = variabili[variabili['P>|z|'] < 0.05]\n",
    "betap = betap[['Coef.', 'Std. err.','Odds']]\n",
    "\n",
    "print(betap)"
   ]
  },
  {
   "cell_type": "code",
   "execution_count": 46,
   "id": "2e621aac-1d6b-4f57-9f14-476761f4dd19",
   "metadata": {},
   "outputs": [
    {
     "name": "stdout",
     "output_type": "stream",
     "text": [
      "Odds predittori:\n",
      " Demo_Pol_syst    0.720346\n",
      "Threat_CIV       1.248910\n",
      "1/2              0.405236\n",
      "2/3              0.748495\n",
      "3/4              0.883364\n",
      "Name: Odds, dtype: float64\n",
      "-------\n",
      "Soglie:\n",
      " [       -inf -0.90328464 -0.15478959  0.728574           inf]\n"
     ]
    }
   ],
   "source": [
    "betaodds = betap['Odds']\n",
    "print('Odds predittori:\\n', betaodds)\n",
    "print('-------')\n",
    "print('Soglie:\\n', modello.transform_threshold_params(results.params[-num_of_thresholds:]))"
   ]
  },
  {
   "cell_type": "markdown",
   "id": "71759ff5-ee49-4909-945b-d8bdc5b17996",
   "metadata": {},
   "source": [
    "### Demo_Pol_syst and Threat_MOR"
   ]
  },
  {
   "cell_type": "code",
   "execution_count": 49,
   "id": "593747a4-1bda-4d52-a9c8-9d87749cb3f7",
   "metadata": {},
   "outputs": [
    {
     "name": "stdout",
     "output_type": "stream",
     "text": [
      "                             OrderedModel Results                             \n",
      "==============================================================================\n",
      "Dep. Variable:              Lead_auth   Log-Likelihood:                -3102.9\n",
      "Model:                   OrderedModel   AIC:                             6216.\n",
      "Method:            Maximum Likelihood   BIC:                             6245.\n",
      "Date:                Wed, 18 Dec 2024                                         \n",
      "Time:                        23:52:42                                         \n",
      "No. Observations:                2480                                         \n",
      "Df Residuals:                    2475                                         \n",
      "Df Model:                           2                                         \n",
      "=================================================================================\n",
      "                    coef    std err          z      P>|z|      [0.025      0.975]\n",
      "---------------------------------------------------------------------------------\n",
      "Demo_Pol_syst    -0.3372      0.028    -12.105      0.000      -0.392      -0.283\n",
      "Threat_MOR        0.0735      0.008      9.021      0.000       0.058       0.089\n",
      "1/2              -1.0303      0.110     -9.367      0.000      -1.246      -0.815\n",
      "2/3              -0.2902      0.034     -8.489      0.000      -0.357      -0.223\n",
      "3/4              -0.1307      0.037     -3.551      0.000      -0.203      -0.059\n",
      "=================================================================================\n"
     ]
    }
   ],
   "source": [
    "modello = OrderedModel(y,\n",
    "                        predittori[['Demo_Pol_syst','Threat_MOR']],\n",
    "                        distr='probit')\n",
    "results = modello.fit(method='bfgs', disp=False)\n",
    "results.summary()\n",
    "print(results.summary())"
   ]
  },
  {
   "cell_type": "code",
   "execution_count": 51,
   "id": "ef049932-cf02-4b64-bdc2-cdc2d8fe0fcb",
   "metadata": {},
   "outputs": [
    {
     "name": "stdout",
     "output_type": "stream",
     "text": [
      "AIC: 6215.706526963433\n",
      "BIC: 6244.786596159228\n",
      "Log-likelihood of model (llf): -3102.8532634817166\n",
      "Log-likelihood of model without explanatory variables (llnull): -3233.6563810989865\n",
      "Likelihood ratio chi-squared statistic (llr): 261.6062352345398\n",
      "Chi-squared probability (llr_pvalue): 1.5592932650579315e-57\n",
      "McFadden’s pseudo-R-squared (prsquared): 0.04045053097843854\n"
     ]
    }
   ],
   "source": [
    "# Parameters\n",
    "print(\"AIC:\", results.aic)\n",
    "print(\"BIC:\", results.bic)\n",
    "print(\"Log-likelihood of model (llf):\", results.llf)\n",
    "print(\"Log-likelihood of model without explanatory variables (llnull):\", results.llnull)\n",
    "print(\"Likelihood ratio chi-squared statistic (llr):\", results.llr)\n",
    "print(\"Chi-squared probability (llr_pvalue):\", results.llr_pvalue)\n",
    "print(\"McFadden’s pseudo-R-squared (prsquared):\", results.prsquared)"
   ]
  },
  {
   "cell_type": "code",
   "execution_count": 53,
   "id": "917146c5-b42c-469e-8c2e-a23ba0423dd4",
   "metadata": {},
   "outputs": [
    {
     "name": "stdout",
     "output_type": "stream",
     "text": [
      "                  Coef.  Std. err.      Odds\n",
      "Demo_Pol_syst -0.337176   0.027855  0.713783\n",
      "Threat_MOR     0.073517   0.008150  1.076286\n",
      "1/2           -1.030317   0.109992  0.356894\n",
      "2/3           -0.290206   0.034187  0.748110\n",
      "3/4           -0.130655   0.036799  0.877520\n"
     ]
    }
   ],
   "source": [
    "# as above: betas, p-values, standard errors, odds ratio\n",
    "\n",
    "beta = results.params  # Coefficients (beta)\n",
    "std_errors = results.bse   # standard errors\n",
    "p_values = results.pvalues     # P-value\n",
    "odds= np.exp(results.params)# odds-ratio\n",
    "\n",
    "# Create a df \n",
    "variabili= pd.DataFrame({'Coef.': beta, 'Std. err.': std_errors, 'P>|z|': p_values, 'Odds' : odds})\n",
    "\n",
    "# filter significant predictors\n",
    "betap = variabili[variabili['P>|z|'] < 0.05]\n",
    "betap = betap[['Coef.', 'Std. err.','Odds']]\n",
    "\n",
    "print(betap)"
   ]
  },
  {
   "cell_type": "code",
   "execution_count": 55,
   "id": "a3847e62-a5a4-4830-a596-b055876f74db",
   "metadata": {},
   "outputs": [
    {
     "name": "stdout",
     "output_type": "stream",
     "text": [
      "Odds predittori:\n",
      " Demo_Pol_syst    0.713783\n",
      "Threat_MOR       1.076286\n",
      "1/2              0.356894\n",
      "2/3              0.748110\n",
      "3/4              0.877520\n",
      "Name: Odds, dtype: float64\n",
      "-------\n",
      "Soglie:\n",
      " [       -inf -1.03031661 -0.28220683  0.59531353         inf]\n"
     ]
    }
   ],
   "source": [
    "betaodds = betap['Odds']\n",
    "print('Odds predittori:\\n', betaodds)\n",
    "print('-------')\n",
    "print('Soglie:\\n',  modello.transform_threshold_params(results.params[-num_of_thresholds:]))"
   ]
  },
  {
   "cell_type": "markdown",
   "id": "5aaaced0-876d-4bc3-81f6-ac4b7ed5642a",
   "metadata": {},
   "source": [
    "### Ordinal models with interactions"
   ]
  },
  {
   "cell_type": "code",
   "execution_count": 58,
   "id": "b5dc01c6-8a13-4ed2-9f05-005f07215259",
   "metadata": {},
   "outputs": [
    {
     "name": "stdout",
     "output_type": "stream",
     "text": [
      "                             OrderedModel Results                             \n",
      "==============================================================================\n",
      "Dep. Variable:              Lead_auth   Log-Likelihood:                -3143.1\n",
      "Model:                   OrderedModel   AIC:                             6298.\n",
      "Method:            Maximum Likelihood   BIC:                             6333.\n",
      "Date:                Wed, 18 Dec 2024                                         \n",
      "Time:                        23:52:46                                         \n",
      "No. Observations:                2480                                         \n",
      "Df Residuals:                    2474                                         \n",
      "Df Model:                           3                                         \n",
      "============================================================================================\n",
      "                               coef    std err          z      P>|z|      [0.025      0.975]\n",
      "--------------------------------------------------------------------------------------------\n",
      "Demo_Pol_syst               -0.3431      0.102     -3.357      0.001      -0.544      -0.143\n",
      "Threat_ECO                   0.0559      0.106      0.527      0.598      -0.152       0.264\n",
      "Demo_Pol_syst:Threat_ECO    -0.0091      0.032     -0.288      0.773      -0.071       0.053\n",
      "1.0/2.0                     -1.3601      0.339     -4.007      0.000      -2.025      -0.695\n",
      "2.0/3.0                     -0.3119      0.034     -9.114      0.000      -0.379      -0.245\n",
      "3.0/4.0                     -0.1482      0.037     -4.018      0.000      -0.220      -0.076\n",
      "============================================================================================\n"
     ]
    }
   ],
   "source": [
    "modello = OrderedModel.from_formula(\n",
    "    'Lead_auth ~ Demo_Pol_syst + Threat_ECO + Demo_Pol_syst * Threat_ECO', df,\n",
    "                        distr='probit') \n",
    "results = modello.fit(method='bfgs', disp=False)\n",
    "results.summary()\n",
    "print(results.summary())"
   ]
  },
  {
   "cell_type": "code",
   "execution_count": 60,
   "id": "e7252a67-d841-4a8d-88f0-85459adc1ddb",
   "metadata": {},
   "outputs": [
    {
     "name": "stdout",
     "output_type": "stream",
     "text": [
      "AIC: 6298.2837916917815\n",
      "BIC: 6333.179874726736\n",
      "Log-likelihood of model (llf): -3143.1418958458908\n",
      "Log-likelihood of model without explanatory variables (llnull): -3233.6563810989865\n",
      "Likelihood ratio chi-squared statistic (llr): 181.0289705061914\n",
      "Chi-squared probability (llr_pvalue): 5.287520800019483e-39\n",
      "McFadden’s pseudo-R-squared (prsquared): 0.027991374031625993\n"
     ]
    }
   ],
   "source": [
    "# parameters\n",
    "print(\"AIC:\", results.aic)\n",
    "print(\"BIC:\", results.bic)\n",
    "print(\"Log-likelihood of model (llf):\", results.llf)\n",
    "print(\"Log-likelihood of model without explanatory variables (llnull):\", results.llnull)\n",
    "print(\"Likelihood ratio chi-squared statistic (llr):\", results.llr)\n",
    "print(\"Chi-squared probability (llr_pvalue):\", results.llr_pvalue)\n",
    "print(\"McFadden’s pseudo-R-squared (prsquared):\", results.prsquared)"
   ]
  },
  {
   "cell_type": "code",
   "execution_count": 62,
   "id": "23da6c4c-a4b7-4c98-91a1-eb9b701bf0f5",
   "metadata": {},
   "outputs": [
    {
     "name": "stdout",
     "output_type": "stream",
     "text": [
      "                  Coef.  Std. err.      Odds\n",
      "Demo_Pol_syst -0.343147   0.102229  0.709534\n",
      "1.0/2.0       -1.360121   0.339437  0.256630\n",
      "2.0/3.0       -0.311854   0.034217  0.732088\n",
      "3.0/4.0       -0.148163   0.036871  0.862290\n"
     ]
    }
   ],
   "source": [
    "beta = results.params  # Coefficienti (beta)\n",
    "std_errors = results.bse   # standard errors\n",
    "p_values = results.pvalues     # P-value\n",
    "odds= np.exp(results.params)# odds-ratio\n",
    "\n",
    "# Create a df \n",
    "variabili= pd.DataFrame({'Coef.': beta, 'Std. err.': std_errors, 'P>|z|': p_values, 'Odds' : odds})\n",
    "\n",
    "# filter the predictors \n",
    "betap = variabili[variabili['P>|z|'] < 0.05]\n",
    "betap = betap[['Coef.', 'Std. err.','Odds']]\n",
    "\n",
    "print(betap)"
   ]
  },
  {
   "cell_type": "code",
   "execution_count": 64,
   "id": "ef3cf604-1349-443f-82da-d0be7f73af2a",
   "metadata": {},
   "outputs": [
    {
     "name": "stdout",
     "output_type": "stream",
     "text": [
      "Odds predittori:\n",
      " Demo_Pol_syst    0.709534\n",
      "1.0/2.0          0.256630\n",
      "2.0/3.0          0.732088\n",
      "3.0/4.0          0.862290\n",
      "Name: Odds, dtype: float64\n",
      "-------\n",
      "Soglie:\n",
      " [       -inf -1.36012102 -0.62803261  0.23425766         inf]\n"
     ]
    }
   ],
   "source": [
    "betaodds = betap['Odds']\n",
    "print('Odds predittori:\\n', betaodds)\n",
    "print('-------')\n",
    "print('Soglie:\\n',   modello.transform_threshold_params(results.params[-num_of_thresholds:]))"
   ]
  },
  {
   "cell_type": "code",
   "execution_count": 66,
   "id": "4ac7f331-3613-43e5-84ad-fd912cd9f316",
   "metadata": {},
   "outputs": [
    {
     "name": "stdout",
     "output_type": "stream",
     "text": [
      "                             OrderedModel Results                             \n",
      "==============================================================================\n",
      "Dep. Variable:              Lead_auth   Log-Likelihood:                -3094.7\n",
      "Model:                   OrderedModel   AIC:                             6201.\n",
      "Method:            Maximum Likelihood   BIC:                             6236.\n",
      "Date:                Wed, 18 Dec 2024                                         \n",
      "Time:                        23:52:49                                         \n",
      "No. Observations:                2480                                         \n",
      "Df Residuals:                    2474                                         \n",
      "Df Model:                           3                                         \n",
      "============================================================================================\n",
      "                               coef    std err          z      P>|z|      [0.025      0.975]\n",
      "--------------------------------------------------------------------------------------------\n",
      "Demo_Pol_syst               -0.5117      0.072     -7.068      0.000      -0.654      -0.370\n",
      "Threat_CIV                  -0.0325      0.095     -0.340      0.734      -0.219       0.155\n",
      "Demo_Pol_syst:Threat_CIV     0.0779      0.028      2.753      0.006       0.022       0.133\n",
      "1.0/2.0                     -1.5145      0.250     -6.048      0.000      -2.005      -1.024\n",
      "2.0/3.0                     -0.2876      0.034     -8.413      0.000      -0.355      -0.221\n",
      "3.0/4.0                     -0.1242      0.037     -3.374      0.001      -0.196      -0.052\n",
      "============================================================================================\n"
     ]
    }
   ],
   "source": [
    "modello = OrderedModel.from_formula(\n",
    "    'Lead_auth ~ Demo_Pol_syst + Threat_CIV+ Demo_Pol_syst * Threat_CIV', df,\n",
    "                        distr='probit') \n",
    "results = modello.fit(method='bfgs', disp=False)\n",
    "results.summary()\n",
    "print(results.summary())"
   ]
  },
  {
   "cell_type": "code",
   "execution_count": 68,
   "id": "0a4a1c51-06fa-4742-a263-afee68b78350",
   "metadata": {},
   "outputs": [
    {
     "name": "stdout",
     "output_type": "stream",
     "text": [
      "AIC: 6201.467176999207\n",
      "BIC: 6236.363260034162\n",
      "Log-likelihood of model (llf): -3094.7335884996037\n",
      "Log-likelihood of model without explanatory variables (llnull): -3233.6563810989865\n",
      "Likelihood ratio chi-squared statistic (llr): 277.84558519876555\n",
      "Chi-squared probability (llr_pvalue): 6.194329473780878e-60\n",
      "McFadden’s pseudo-R-squared (prsquared): 0.04296151978651752\n"
     ]
    }
   ],
   "source": [
    "# Parameters\n",
    "print(\"AIC:\", results.aic)\n",
    "print(\"BIC:\", results.bic)\n",
    "print(\"Log-likelihood of model (llf):\", results.llf)\n",
    "print(\"Log-likelihood of model without explanatory variables (llnull):\", results.llnull)\n",
    "print(\"Likelihood ratio chi-squared statistic (llr):\", results.llr)\n",
    "print(\"Chi-squared probability (llr_pvalue):\", results.llr_pvalue)\n",
    "print(\"McFadden’s pseudo-R-squared (prsquared):\", results.prsquared)"
   ]
  },
  {
   "cell_type": "code",
   "execution_count": 70,
   "id": "d45a1f42-512b-4c8c-a44b-174818d2e43c",
   "metadata": {},
   "outputs": [
    {
     "name": "stdout",
     "output_type": "stream",
     "text": [
      "                             Coef.  Std. err.      Odds\n",
      "Demo_Pol_syst            -0.511667   0.072393  0.599495\n",
      "Demo_Pol_syst:Threat_CIV  0.077868   0.028290  1.080980\n",
      "1.0/2.0                  -1.514521   0.250406  0.219913\n",
      "2.0/3.0                  -0.287614   0.034188  0.750051\n",
      "3.0/4.0                  -0.124213   0.036811  0.883192\n"
     ]
    }
   ],
   "source": [
    "beta = results.params  # Coefficienti (beta)\n",
    "std_errors = results.bse   # standard errors\n",
    "p_values = results.pvalues     # P-value\n",
    "odds= np.exp(results.params)# odds-ratio\n",
    "\n",
    "# Create a df \n",
    "variabili= pd.DataFrame({'Coef.': beta, 'Std. err.': std_errors, 'P>|z|': p_values, 'Odds' : odds})\n",
    "\n",
    "# Filter the predictors \n",
    "betap = variabili[variabili['P>|z|'] < 0.05]\n",
    "betap = betap[['Coef.', 'Std. err.','Odds']]\n",
    "\n",
    "print(betap)"
   ]
  },
  {
   "cell_type": "code",
   "execution_count": 72,
   "id": "137b3e77-830d-463c-9d2b-adbbc6c4a932",
   "metadata": {},
   "outputs": [
    {
     "name": "stdout",
     "output_type": "stream",
     "text": [
      "Odds predittori:\n",
      " Demo_Pol_syst               0.599495\n",
      "Demo_Pol_syst:Threat_CIV    1.080980\n",
      "1.0/2.0                     0.219913\n",
      "2.0/3.0                     0.750051\n",
      "3.0/4.0                     0.883192\n",
      "Name: Odds, dtype: float64\n",
      "-------\n",
      "Soglie:\n",
      " [       -inf -1.51452115 -0.76446985  0.11872184         inf]\n"
     ]
    }
   ],
   "source": [
    "betaodds = betap['Odds']\n",
    "print('Odds predittori:\\n', betaodds)\n",
    "print('-------')\n",
    "print('Soglie:\\n',   modello.transform_threshold_params(results.params[-num_of_thresholds:]))"
   ]
  },
  {
   "cell_type": "code",
   "execution_count": 73,
   "id": "8d0834ac-8c96-4a40-9dc7-5f3d6d6f4d76",
   "metadata": {},
   "outputs": [
    {
     "name": "stdout",
     "output_type": "stream",
     "text": [
      "                             OrderedModel Results                             \n",
      "==============================================================================\n",
      "Dep. Variable:              Lead_auth   Log-Likelihood:                -3095.6\n",
      "Model:                   OrderedModel   AIC:                             6203.\n",
      "Method:            Maximum Likelihood   BIC:                             6238.\n",
      "Date:                Wed, 18 Dec 2024                                         \n",
      "Time:                        23:52:51                                         \n",
      "No. Observations:                2480                                         \n",
      "Df Residuals:                    2474                                         \n",
      "Df Model:                           3                                         \n",
      "============================================================================================\n",
      "                               coef    std err          z      P>|z|      [0.025      0.975]\n",
      "--------------------------------------------------------------------------------------------\n",
      "Demo_Pol_syst               -0.5556      0.064     -8.701      0.000      -0.681      -0.430\n",
      "Threat_MOR                  -0.0508      0.034     -1.510      0.131      -0.117       0.015\n",
      "Demo_Pol_syst:Threat_MOR     0.0376      0.010      3.806      0.000       0.018       0.057\n",
      "1.0/2.0                     -1.7635      0.222     -7.950      0.000      -2.198      -1.329\n",
      "2.0/3.0                     -0.2869      0.034     -8.393      0.000      -0.354      -0.220\n",
      "3.0/4.0                     -0.1306      0.037     -3.551      0.000      -0.203      -0.059\n",
      "============================================================================================\n"
     ]
    }
   ],
   "source": [
    "modello = OrderedModel.from_formula(\n",
    "    'Lead_auth ~ Demo_Pol_syst + Threat_MOR + Demo_Pol_syst * Threat_MOR', df,\n",
    "                        distr='probit') \n",
    "results = modello.fit(method='bfgs', disp=False)\n",
    "results.summary()\n",
    "print(results.summary())"
   ]
  },
  {
   "cell_type": "code",
   "execution_count": 75,
   "id": "44a863de-b453-437b-936b-f549dfe1f110",
   "metadata": {},
   "outputs": [
    {
     "name": "stdout",
     "output_type": "stream",
     "text": [
      "AIC: 6203.2178955984855\n",
      "BIC: 6238.11397863344\n",
      "Log-likelihood of model (llf): -3095.6089477992427\n",
      "Log-likelihood of model without explanatory variables (llnull): -3233.6563810989865\n",
      "Likelihood ratio chi-squared statistic (llr): 276.09486659948743\n",
      "Chi-squared probability (llr_pvalue): 1.4818192645721605e-59\n",
      "McFadden’s pseudo-R-squared (prsquared): 0.042690817152571725\n"
     ]
    }
   ],
   "source": [
    "# parameters\n",
    "print(\"AIC:\", results.aic)\n",
    "print(\"BIC:\", results.bic)\n",
    "print(\"Log-likelihood of model (llf):\", results.llf)\n",
    "print(\"Log-likelihood of model without explanatory variables (llnull):\", results.llnull)\n",
    "print(\"Likelihood ratio chi-squared statistic (llr):\", results.llr)\n",
    "print(\"Chi-squared probability (llr_pvalue):\", results.llr_pvalue)\n",
    "print(\"McFadden’s pseudo-R-squared (prsquared):\", results.prsquared)"
   ]
  },
  {
   "cell_type": "code",
   "execution_count": 77,
   "id": "be11bdc1-7605-40e6-9a0f-e0baf4e9a311",
   "metadata": {},
   "outputs": [
    {
     "name": "stdout",
     "output_type": "stream",
     "text": [
      "                             Coef.  Std. err.      Odds\n",
      "Demo_Pol_syst            -0.555565   0.063851  0.573748\n",
      "Demo_Pol_syst:Threat_MOR  0.037630   0.009888  1.038347\n",
      "1.0/2.0                  -1.763492   0.221815  0.171445\n",
      "2.0/3.0                  -0.286893   0.034183  0.750592\n",
      "3.0/4.0                  -0.130645   0.036788  0.877529\n"
     ]
    }
   ],
   "source": [
    "beta = results.params  # Coefficients (beta)\n",
    "std_errors = results.bse   # standard errors\n",
    "p_values = results.pvalues     # P-value\n",
    "odds= np.exp(results.params)# odds-ratio\n",
    "\n",
    "# Crea un DataFrame con i coefficienti e i p-value\n",
    "variabili= pd.DataFrame({'Coef.': beta, 'Std. err.': std_errors, 'P>|z|': p_values, 'Odds' : odds})\n",
    "\n",
    "# Filter the predictors\n",
    "betap = variabili[variabili['P>|z|'] < 0.05]\n",
    "betap = betap[['Coef.', 'Std. err.','Odds']]\n",
    "\n",
    "print(betap)"
   ]
  },
  {
   "cell_type": "code",
   "execution_count": 82,
   "id": "d2621bac-4271-4a67-ac79-b2b9b1c8faa7",
   "metadata": {},
   "outputs": [
    {
     "name": "stdout",
     "output_type": "stream",
     "text": [
      "Odds predittori:\n",
      " Demo_Pol_syst               0.573748\n",
      "Demo_Pol_syst:Threat_MOR    1.038347\n",
      "1.0/2.0                     0.171445\n",
      "2.0/3.0                     0.750592\n",
      "3.0/4.0                     0.877529\n",
      "Name: Odds, dtype: float64\n",
      "-------\n",
      "Soglie:\n",
      " [       -inf -1.76349218 -1.0129004  -0.13537151         inf]\n"
     ]
    }
   ],
   "source": [
    "betaodds = betap['Odds']\n",
    "print('Odds predittori:\\n', betaodds)\n",
    "print('-------')\n",
    "print('Soglie:\\n',   modello.transform_threshold_params(results.params[-num_of_thresholds:]))"
   ]
  }
 ],
 "metadata": {
  "colab": {
   "provenance": []
  },
  "kernelspec": {
   "display_name": "Python 3 (ipykernel)",
   "language": "python",
   "name": "python3"
  },
  "language_info": {
   "codemirror_mode": {
    "name": "ipython",
    "version": 3
   },
   "file_extension": ".py",
   "mimetype": "text/x-python",
   "name": "python",
   "nbconvert_exporter": "python",
   "pygments_lexer": "ipython3",
   "version": "3.12.4"
  }
 },
 "nbformat": 4,
 "nbformat_minor": 5
}
